{
 "cells": [
  {
   "cell_type": "code",
   "execution_count": 1,
   "metadata": {},
   "outputs": [],
   "source": [
    "position={'x':20,'y':30}\n",
    "\n",
    "fence={'x':[10,25,40,10],'y':[0,40,0,0]}              #pick points like fence['x'][i],fence['y'][i] \n",
    "                                                      #the points must be laid clockwise"
   ]
  },
  {
   "cell_type": "code",
   "execution_count": 2,
   "metadata": {},
   "outputs": [
    {
     "data": {
      "image/png": "[encoded data removed]",
      "text/plain": [
       "<Figure size 432x288 with 1 Axes>"
      ]
     },
     "metadata": {
      "needs_background": "light"
     },
     "output_type": "display_data"
    }
   ],
   "source": [
    "import matplotlib.pyplot as plt\n",
    "\n",
    "plt.plot(fence['x'],fence['y'],color='#f5406a')\n",
    "plt.scatter(position['x'],position['y'])\n",
    "plt.show()"
   ]
  },
  {
   "cell_type": "code",
   "execution_count": 3,
   "metadata": {},
   "outputs": [
    {
     "name": "stdout",
     "output_type": "stream",
     "text": [
      "No. of right intersects :  2\n",
      "The point is outside the polygon.\n"
     ]
    }
   ],
   "source": [
    "intersect=0;\n",
    "for i in range(len(fence['x'])-1):\n",
    "    if(not(position['y']<fence['y'][i] and position['y']<fence['y'][i+1])):                  #if the line is not above\n",
    "        if(not(position['y']>fence['y'][i] and position['y']>fence['y'][i+1])):                  #if the line is not below\n",
    "            x=fence['x'][i]\n",
    "            y=fence['y'][i]\n",
    "            x1=fence['x'][i+1]\n",
    "            y1=fence['y'][i+1]\n",
    "            try:\n",
    "                m=(y-y1)/(x-x1)\n",
    "            except ZeroDivisionError:\n",
    "                m=0\n",
    "            c=m*(-x1)+y1\n",
    "            try:\n",
    "                X=(position['y']-c)/m\n",
    "            except ZeroDivisionError:\n",
    "                X=0\n",
    "            if(position['x']<=X):\n",
    "                intersect+=1\n",
    "\n",
    "print(\"No. of right intersects : \",intersect)                \n",
    "if(intersect%2==0):\n",
    "    print('The point is outside the polygon.')\n",
    "else:\n",
    "    print('The point is inside the polygon.')"
   ]
  },
  {
   "cell_type": "code",
   "execution_count": null,
   "metadata": {},
   "outputs": [],
   "source": []
  }
 ],
 "metadata": {
  "kernelspec": {
   "display_name": "Python 3",
   "language": "python",
   "name": "python3"
  },
  "language_info": {
   "codemirror_mode": {
    "name": "ipython",
    "version": 3
   },
   "file_extension": ".py",
   "mimetype": "text/x-python",
   "name": "python",
   "nbconvert_exporter": "python",
   "pygments_lexer": "ipython3",
   "version": "3.7.5"
  }
 },
 "nbformat": 4,
 "nbformat_minor": 2
}
