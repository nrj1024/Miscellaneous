{
 "cells": [
  {
   "cell_type": "code",
   "execution_count": null,
   "metadata": {},
   "outputs": [],
   "source": [
    "import pandas as pd\n",
    "import numpy as np\n",
    "import matplotlib.pyplot as plt\n",
    "\n",
    "train=pd.read_csv(\"./MNIST/train.csv\")\n",
    "test=pd.read_csv(\"./MNIST/test.csv\")\n",
    "train=train.values\n",
    "test=test.values\n",
    "\n",
    "test_data=test[76,:-1]       #check 478th row, it's an anomaly\n",
    "\n",
    "def pred(data):\n",
    "    img=data.reshape((28,28))\n",
    "    plt.imshow(img,cmap='gray') \n",
    "    prox=[]\n",
    "    for i in range(train.shape[0]):\n",
    "        prox.append(np.sum(np.abs(train[i,:-1]-data)))\n",
    "    pred=prox.index(min(prox))\n",
    "    print(\"Dobby thinks it\\'s a : \",train[pred,-1])"
   ]
  },
  {
   "cell_type": "code",
   "execution_count": null,
   "metadata": {},
   "outputs": [],
   "source": [
    "pred(test_data)"
   ]
  },
  {
   "cell_type": "code",
   "execution_count": null,
   "metadata": {},
   "outputs": [],
   "source": [
    "np.argmax?    #Shows the info about the function"
   ]
  },
  {
   "cell_type": "code",
   "execution_count": null,
   "metadata": {},
   "outputs": [],
   "source": [
    "#This implementation averages out the first K values count and printss the number which is most occur\n",
    "\n",
    "def predict(data, K=10):            #As per my observation, K=10 is leading to better results\n",
    "    img=data.reshape((28,28))\n",
    "    plt.imshow(img,cmap='gray') \n",
    "    prox=[]\n",
    "    for i in range(train.shape[0]):\n",
    "        prox.append([np.sum(np.abs(train[i,:-1]-data)),train[i,-1]])\n",
    "    prox.sort()\n",
    "    counter=np.zeros((10,))\n",
    "    for i in range(K):\n",
    "        #print(prox[i][1])\n",
    "        counter[prox[i][1]]+=1\n",
    "    print(\"Dobby thinks it\\'s a : \",counter.argmax())"
   ]
  },
  {
   "cell_type": "code",
   "execution_count": null,
   "metadata": {},
   "outputs": [],
   "source": [
    "predict(test[478,:-1])"
   ]
  },
  {
   "cell_type": "markdown",
   "metadata": {},
   "source": [
    "## Using sklearn"
   ]
  },
  {
   "cell_type": "code",
   "execution_count": 46,
   "metadata": {},
   "outputs": [
    {
     "data": {
      "text/plain": [
       "KNeighborsClassifier(algorithm='auto', leaf_size=30, metric='minkowski',\n",
       "           metric_params=None, n_jobs=None, n_neighbors=3, p=2,\n",
       "           weights='uniform')"
      ]
     },
     "execution_count": 46,
     "metadata": {},
     "output_type": "execute_result"
    }
   ],
   "source": [
    "from sklearn.neighbors import KNeighborsClassifier\n",
    "import pandas as pd\n",
    "import numpy as np\n",
    "import matplotlib.pyplot as plt\n",
    "\n",
    "train=pd.read_csv(\"./MNIST/train.csv\")\n",
    "test=pd.read_csv(\"./MNIST/test.csv\")\n",
    "train=train.values\n",
    "test=test.values\n",
    "neighbors=KNeighborsClassifier(n_neighbors=3)\n",
    "neighbors.fit(train[:9999,:-1], train[:9999,-1])    #fit(X,Y) here X= training dataset features and Y= training dataset results/labels, So number of rows should be equal here"
   ]
  },
  {
   "cell_type": "code",
   "execution_count": 48,
   "metadata": {},
   "outputs": [
    {
     "data": {
      "text/plain": [
       "array([7], dtype=int64)"
      ]
     },
     "execution_count": 48,
     "metadata": {},
     "output_type": "execute_result"
    }
   ],
   "source": [
    "testpoint=test[306,:-1]\n",
    "neighbors.predict([testpoint])"
   ]
  },
  {
   "cell_type": "code",
   "execution_count": 49,
   "metadata": {},
   "outputs": [
    {
     "data": {
      "text/plain": [
       "<matplotlib.image.AxesImage at 0x1de94de52b0>"
      ]
     },
     "execution_count": 49,
     "metadata": {},
     "output_type": "execute_result"
    },
    {
     "data": {
      "image/png": "[encoded data removed]",
      "text/plain": [
       "<Figure size 432x288 with 1 Axes>"
      ]
     },
     "metadata": {
      "needs_background": "light"
     },
     "output_type": "display_data"
    }
   ],
   "source": [
    "img=testpoint.reshape((28,28))\n",
    "plt.imshow(img,cmap='gray') "
   ]
  },
  {
   "cell_type": "markdown",
   "metadata": {},
   "source": [
    "## Using train_test_split in sklearn"
   ]
  },
  {
   "cell_type": "code",
   "execution_count": 62,
   "metadata": {},
   "outputs": [
    {
     "data": {
      "text/plain": [
       "KNeighborsClassifier(algorithm='auto', leaf_size=30, metric='minkowski',\n",
       "           metric_params=None, n_jobs=None, n_neighbors=3, p=2,\n",
       "           weights='uniform')"
      ]
     },
     "execution_count": 62,
     "metadata": {},
     "output_type": "execute_result"
    }
   ],
   "source": [
    "from sklearn.model_selection import train_test_split\n",
    "from sklearn.neighbors import KNeighborsClassifier\n",
    "import pandas as pd\n",
    "import numpy as np\n",
    "import matplotlib.pyplot as plt\n",
    "\n",
    "test=pd.read_csv(\"./MNIST/test.csv\")\n",
    "test=test.values\n",
    "X_train, X_test, y_train, y_test = train_test_split(test[:,:-1], test[:,-1], test_size=0.33, random_state=42)    #0.33 part will become the test dataset with 42 units of random state(cause you don't want the data to be split just into first half and second half)\n",
    "neighbors=KNeighborsClassifier(n_neighbors=3)\n",
    "neighbors.fit(X_train, y_train)"
   ]
  },
  {
   "cell_type": "code",
   "execution_count": 63,
   "metadata": {},
   "outputs": [
    {
     "name": "stdout",
     "output_type": "stream",
     "text": [
      "[7]\n"
     ]
    },
    {
     "data": {
      "text/plain": [
       "<matplotlib.image.AxesImage at 0x1de950956a0>"
      ]
     },
     "execution_count": 63,
     "metadata": {},
     "output_type": "execute_result"
    },
    {
     "data": {
      "image/png": "[encoded data removed]",
      "text/plain": [
       "<Figure size 432x288 with 1 Axes>"
      ]
     },
     "metadata": {
      "needs_background": "light"
     },
     "output_type": "display_data"
    }
   ],
   "source": [
    "testpoint=X_train[12,:]\n",
    "print(neighbors.predict([testpoint]))\n",
    "img=testpoint.reshape((28,28))\n",
    "plt.imshow(img,cmap='gray')"
   ]
  },
  {
   "cell_type": "code",
   "execution_count": 66,
   "metadata": {},
   "outputs": [
    {
     "data": {
      "text/plain": [
       "0.9442424242424242"
      ]
     },
     "execution_count": 66,
     "metadata": {},
     "output_type": "execute_result"
    }
   ],
   "source": [
    "from sklearn.metrics import accuracy_score\n",
    "\n",
    "pred=neighbors.predict(X_test)\n",
    "accuracy_score(y_test,pred)"
   ]
  },
  {
   "cell_type": "code",
   "execution_count": null,
   "metadata": {},
   "outputs": [],
   "source": []
  }
 ],
 "metadata": {
  "kernelspec": {
   "display_name": "Python 3",
   "language": "python",
   "name": "python3"
  },
  "language_info": {
   "codemirror_mode": {
    "name": "ipython",
    "version": 3
   },
   "file_extension": ".py",
   "mimetype": "text/x-python",
   "name": "python",
   "nbconvert_exporter": "python",
   "pygments_lexer": "ipython3",
   "version": "3.7.3"
  }
 },
 "nbformat": 4,
 "nbformat_minor": 2
}
