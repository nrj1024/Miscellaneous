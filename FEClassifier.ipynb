{
 "cells": [
  {
   "cell_type": "code",
   "execution_count": 2,
   "metadata": {},
   "outputs": [],
   "source": [
    "import pandas as pd\n",
    "import numpy as np\n",
    "from PIL import Image\n",
    "import matplotlib.image as mpimg\n",
    "from skimage import transform\n",
    "import random\n",
    "import matplotlib.pyplot as plt\n",
    "from tensorflow.keras.models import Sequential\n",
    "from tensorflow.keras.optimizers import RMSprop\n",
    "from tensorflow.keras.layers import Conv1D, MaxPooling1D\n",
    "from tensorflow.keras.layers import Activation, Dropout, Flatten, Dense"
   ]
  },
  {
   "cell_type": "code",
   "execution_count": 3,
   "metadata": {},
   "outputs": [],
   "source": [
    "emotion = {0 : 'Angry', 1 : 'Disgust',2 : 'Fear',3 : 'Happy',\n",
    "           4 : 'Sad',5 : 'Surprise',6 : 'Neutral'}\n",
    "df=pd.read_csv('fer.csv')\n",
    "faces=df.values[:,1]\n",
    "faces=faces.tolist()\n",
    "emos=df.values[:,0]"
   ]
  },
  {
   "cell_type": "code",
   "execution_count": 3,
   "metadata": {},
   "outputs": [],
   "source": [
    "for i in range(len(faces)):\n",
    "    faces[i]=[float(x) for x in faces[i].split()]\n",
    "    emos[i]=int(emos[i])"
   ]
  },
  {
   "cell_type": "code",
   "execution_count": 4,
   "metadata": {},
   "outputs": [
    {
     "data": {
      "text/plain": [
       "(35887, 2304)"
      ]
     },
     "execution_count": 4,
     "metadata": {},
     "output_type": "execute_result"
    }
   ],
   "source": [
    "faces=np.array(faces)\n",
    "faces.shape"
   ]
  },
  {
   "cell_type": "code",
   "execution_count": 5,
   "metadata": {},
   "outputs": [
    {
     "data": {
      "text/plain": [
       "(35887, 2304, 1)"
      ]
     },
     "execution_count": 5,
     "metadata": {},
     "output_type": "execute_result"
    }
   ],
   "source": [
    "faces=np.expand_dims(faces, axis=2)\n",
    "faces.shape"
   ]
  },
  {
   "cell_type": "code",
   "execution_count": 6,
   "metadata": {},
   "outputs": [
    {
     "name": "stdout",
     "output_type": "stream",
     "text": [
      "WARNING:tensorflow:From C:\\Users\\Neeraj\\Anaconda3\\lib\\site-packages\\tensorflow\\python\\framework\\op_def_library.py:263: colocate_with (from tensorflow.python.framework.ops) is deprecated and will be removed in a future version.\n",
      "Instructions for updating:\n",
      "Colocations handled automatically by placer.\n",
      "WARNING:tensorflow:From C:\\Users\\Neeraj\\Anaconda3\\lib\\site-packages\\keras\\backend\\tensorflow_backend.py:3445: calling dropout (from tensorflow.python.ops.nn_ops) with keep_prob is deprecated and will be removed in a future version.\n",
      "Instructions for updating:\n",
      "Please use `rate` instead of `keep_prob`. Rate should be set to `rate = 1 - keep_prob`.\n"
     ]
    }
   ],
   "source": [
    "model = Sequential()\n",
    "\n",
    "model.add(Conv1D(32, 3, padding='same', input_shape=(2304,1), activation='relu'))\n",
    "model.add(Conv1D(32, 3, padding='same', activation='relu'))\n",
    "model.add(MaxPooling1D(pool_size=2))\n",
    "\n",
    "model.add(Conv1D(64, 3, padding='same', activation='relu'))\n",
    "model.add(Conv1D(64, 3, padding='same', activation='relu'))\n",
    "model.add(MaxPooling1D(pool_size=2))\n",
    "\n",
    "model.add(Conv1D(128, 3, padding='same', activation='relu'))\n",
    "model.add(Conv1D(128, 3, padding='same', activation='relu'))\n",
    "model.add(MaxPooling1D(pool_size=2))\n",
    "\n",
    "model.add(Conv1D(256, 3, padding='same', activation='relu'))\n",
    "model.add(Conv1D(256, 3, padding='same', activation='relu'))\n",
    "model.add(MaxPooling1D(pool_size=2))\n",
    "\n",
    "model.add(Flatten())\n",
    "model.add(Dense(256, activation='relu'))\n",
    "model.add(Dropout(0.5))\n",
    "\n",
    "model.add(Dense(256, activation='relu'))\n",
    "model.add(Dropout(0.5))\n",
    "\n",
    "model.add(Dense(7, activation='softmax'))\n",
    "    \n",
    "model.compile(loss='sparse_categorical_crossentropy',\n",
    "            optimizer='adam',\n",
    "            metrics=['accuracy'])"
   ]
  },
  {
   "cell_type": "code",
   "execution_count": 7,
   "metadata": {},
   "outputs": [],
   "source": [
    "#model.fit(faces,emos,epochs=100,batch_size=32,validation_split=0.2)\n",
    "#model.save_weights('model.h5')\n",
    "model.load_weights('./model_backup_1D/model.h5')"
   ]
  },
  {
   "cell_type": "code",
   "execution_count": 8,
   "metadata": {},
   "outputs": [
    {
     "name": "stdout",
     "output_type": "stream",
     "text": [
      "[ Angry: 98.8825% ]\n",
      "  Disgust: 0.0127%\n",
      "  Fear: 1.0796%\n",
      "  Happy: 0.0055%\n",
      "  Sad: 0.0078%\n",
      "  Surprise: 0.0047%\n",
      "  Neutral: 0.0072%\n",
      "\n",
      "Label :  Angry\n"
     ]
    },
    {
     "data": {
      "image/png": "[encoded data removed]",
      "text/plain": [
       "<Figure size 432x288 with 1 Axes>"
      ]
     },
     "metadata": {
      "needs_background": "light"
     },
     "output_type": "display_data"
    }
   ],
   "source": [
    "i=random.randint(0,35887)\n",
    "face=np.array(faces[i])\n",
    "emo=emos[i]\n",
    "img=face.reshape(48,48)\n",
    "plt.imshow(img,cmap='gray')\n",
    "face=np.expand_dims(face, axis=0)\n",
    "probability=model.predict(face)\n",
    "probability=probability.flatten()\n",
    "probability=probability.tolist()\n",
    "for i in probability:\n",
    "    if i==max(probability):\n",
    "        print('[ '+emotion[probability.index(i)]+': '+\"%.4f\"%(i*100)+\"% ]\")\n",
    "    else:\n",
    "        print('  '+emotion[probability.index(i)]+': '+\"%.4f\"%(i*100)+\"%\")\n",
    "print('\\nLabel : ',emotion[emo])"
   ]
  },
  {
   "cell_type": "code",
   "execution_count": 12,
   "metadata": {},
   "outputs": [
    {
     "name": "stdout",
     "output_type": "stream",
     "text": [
      "  Angry: 10.6723%\n",
      "  Disgust: 0.8490%\n",
      "  Fear: 12.0398%\n",
      "[ Happy: 25.6928% ]\n",
      "  Sad: 25.0521%\n",
      "  Surprise: 1.7644%\n",
      "  Neutral: 23.9296%\n"
     ]
    },
    {
     "data": {
      "image/png": "[encoded data removed]",
      "text/plain": [
       "<Figure size 432x288 with 1 Axes>"
      ]
     },
     "metadata": {
      "needs_background": "light"
     },
     "output_type": "display_data"
    }
   ],
   "source": [
    "#CustomTest\n",
    "def load(filename):\n",
    "    img = Image.open(filename)\n",
    "    img = np.array(img).astype('float64')        #(x, x, 3) for RGB                      \n",
    "    img=img[:,:,1]                               #(x, x)\n",
    "    img = transform.resize(img, (48,48))         #(48, 48)\n",
    "    plt.imshow(img, cmap='gray')   \n",
    "    img=img.reshape(2304,1)                      #(2304, 1)\n",
    "    img=np.expand_dims(img, axis=0)\n",
    "    return img\n",
    "\n",
    "image = load('./t.png')               \n",
    "probability=model.predict(image)\n",
    "probability=probability.flatten()\n",
    "probability=probability.tolist()\n",
    "for i in probability:\n",
    "    if i==max(probability):\n",
    "        print('[ '+emotion[probability.index(i)]+': '+\"%.4f\"%(i*100)+\"% ]\")\n",
    "    else:\n",
    "        print('  '+emotion[probability.index(i)]+': '+\"%.4f\"%(i*100)+\"%\")"
   ]
  },
  {
   "cell_type": "code",
   "execution_count": null,
   "metadata": {},
   "outputs": [],
   "source": []
  }
 ],
 "metadata": {
  "kernelspec": {
   "display_name": "Python 3",
   "language": "python",
   "name": "python3"
  },
  "language_info": {
   "codemirror_mode": {
    "name": "ipython",
    "version": 3
   },
   "file_extension": ".py",
   "mimetype": "text/x-python",
   "name": "python",
   "nbconvert_exporter": "python",
   "pygments_lexer": "ipython3",
   "version": "3.7.3"
  }
 },
 "nbformat": 4,
 "nbformat_minor": 2
}
